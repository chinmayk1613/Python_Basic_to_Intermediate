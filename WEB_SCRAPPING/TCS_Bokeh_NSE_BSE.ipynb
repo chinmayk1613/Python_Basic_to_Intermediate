{
 "cells": [
  {
   "cell_type": "code",
   "execution_count": 59,
   "metadata": {},
   "outputs": [
    {
     "name": "stderr",
     "output_type": "stream",
     "text": [
      "BokehUserWarning: ColumnDataSource's columns must be of the same length. Current lengths: ('x', 14), ('y', 7)\n"
     ]
    }
   ],
   "source": [
    "from bokeh.plotting import figure\n",
    "from bokeh.io import output_file,show\n",
    "import pandas\n",
    "\n",
    "df=pandas.read_csv(\"Final_Exchange_Data.csv\")\n",
    "#x=df[\"Date\"]\n",
    "\n",
    "BSE_V=df.loc[df[\"Exchange_Name\"] == \"BSE\"]\n",
    "#BSE_Prv_CLS=BSE_V[\"Previous_Close\"]\n",
    "\n",
    "p=figure(width=500,height=500,x_axis_type=\"datetime\")\n",
    "\n",
    "p.line(df[\"Date\"],BSE_V[\"Previous_Close\"],color=\"Red\",alpha=0.5)\n",
    "\n",
    "output_file(\"Time.html\")\n",
    "\n",
    "show(p)\n"
   ]
  },
  {
   "cell_type": "code",
   "execution_count": 64,
   "metadata": {},
   "outputs": [
    {
     "data": {
      "text/html": [
       "<div>\n",
       "<style scoped>\n",
       "    .dataframe tbody tr th:only-of-type {\n",
       "        vertical-align: middle;\n",
       "    }\n",
       "\n",
       "    .dataframe tbody tr th {\n",
       "        vertical-align: top;\n",
       "    }\n",
       "\n",
       "    .dataframe thead th {\n",
       "        text-align: right;\n",
       "    }\n",
       "</style>\n",
       "<table border=\"1\" class=\"dataframe\">\n",
       "  <thead>\n",
       "    <tr style=\"text-align: right;\">\n",
       "      <th></th>\n",
       "      <th>Date</th>\n",
       "      <th>A_Script Name</th>\n",
       "      <th>Exchange_Name</th>\n",
       "      <th>Previous_Close</th>\n",
       "      <th>Todays_Close</th>\n",
       "      <th>Todays_Open</th>\n",
       "    </tr>\n",
       "  </thead>\n",
       "  <tbody>\n",
       "    <tr>\n",
       "      <th>0</th>\n",
       "      <td>Jan 23, 16:00</td>\n",
       "      <td>Tata Consultancy Services Ltd.</td>\n",
       "      <td>BSE</td>\n",
       "      <td>1900.35</td>\n",
       "      <td>1879.75</td>\n",
       "      <td>1900.00</td>\n",
       "    </tr>\n",
       "    <tr>\n",
       "      <th>2</th>\n",
       "      <td>Jan 24, 16:00</td>\n",
       "      <td>Tata Consultancy Services Ltd.</td>\n",
       "      <td>BSE</td>\n",
       "      <td>1879.75</td>\n",
       "      <td>1901.75</td>\n",
       "      <td>1882.00</td>\n",
       "    </tr>\n",
       "    <tr>\n",
       "      <th>4</th>\n",
       "      <td>Jan 25, 16:00</td>\n",
       "      <td>Tata Consultancy Services Ltd.</td>\n",
       "      <td>BSE</td>\n",
       "      <td>1901.75</td>\n",
       "      <td>1919.05</td>\n",
       "      <td>1904.40</td>\n",
       "    </tr>\n",
       "    <tr>\n",
       "      <th>6</th>\n",
       "      <td>Jan 28, 16:00</td>\n",
       "      <td>Tata Consultancy Services Ltd.</td>\n",
       "      <td>BSE</td>\n",
       "      <td>1919.05</td>\n",
       "      <td>1951.95</td>\n",
       "      <td>1931.70</td>\n",
       "    </tr>\n",
       "    <tr>\n",
       "      <th>8</th>\n",
       "      <td>Jan 29, 16:00</td>\n",
       "      <td>Tata Consultancy Services Ltd.</td>\n",
       "      <td>BSE</td>\n",
       "      <td>1951.95</td>\n",
       "      <td>1983.15</td>\n",
       "      <td>1956.00</td>\n",
       "    </tr>\n",
       "    <tr>\n",
       "      <th>10</th>\n",
       "      <td>Jan 30, 16:00</td>\n",
       "      <td>Tata Consultancy Services Ltd.</td>\n",
       "      <td>BSE</td>\n",
       "      <td>1983.15</td>\n",
       "      <td>1977.85</td>\n",
       "      <td>1983.15</td>\n",
       "    </tr>\n",
       "    <tr>\n",
       "      <th>12</th>\n",
       "      <td>Jan 31, 16:00</td>\n",
       "      <td>Tata Consultancy Services Ltd.</td>\n",
       "      <td>BSE</td>\n",
       "      <td>1977.85</td>\n",
       "      <td>2014.60</td>\n",
       "      <td>1988.00</td>\n",
       "    </tr>\n",
       "  </tbody>\n",
       "</table>\n",
       "</div>"
      ],
      "text/plain": [
       "             Date                   A_Script Name Exchange_Name  \\\n",
       "0   Jan 23, 16:00  Tata Consultancy Services Ltd.           BSE   \n",
       "2   Jan 24, 16:00  Tata Consultancy Services Ltd.           BSE   \n",
       "4   Jan 25, 16:00  Tata Consultancy Services Ltd.           BSE   \n",
       "6   Jan 28, 16:00  Tata Consultancy Services Ltd.           BSE   \n",
       "8   Jan 29, 16:00  Tata Consultancy Services Ltd.           BSE   \n",
       "10  Jan 30, 16:00  Tata Consultancy Services Ltd.           BSE   \n",
       "12  Jan 31, 16:00  Tata Consultancy Services Ltd.           BSE   \n",
       "\n",
       "    Previous_Close  Todays_Close  Todays_Open  \n",
       "0          1900.35       1879.75      1900.00  \n",
       "2          1879.75       1901.75      1882.00  \n",
       "4          1901.75       1919.05      1904.40  \n",
       "6          1919.05       1951.95      1931.70  \n",
       "8          1951.95       1983.15      1956.00  \n",
       "10         1983.15       1977.85      1983.15  \n",
       "12         1977.85       2014.60      1988.00  "
      ]
     },
     "execution_count": 64,
     "metadata": {},
     "output_type": "execute_result"
    }
   ],
   "source": [
    "df.loc[df[\"Exchange_Name\"] == \"BSE\"]"
   ]
  },
  {
   "cell_type": "code",
   "execution_count": 11,
   "metadata": {},
   "outputs": [
    {
     "ename": "UnicodeDecodeError",
     "evalue": "'charmap' codec can't decode byte 0x9d in position 153: character maps to <undefined>",
     "output_type": "error",
     "traceback": [
      "\u001b[1;31m---------------------------------------------------------------------------\u001b[0m",
      "\u001b[1;31mUnicodeDecodeError\u001b[0m                        Traceback (most recent call last)",
      "\u001b[1;32m<ipython-input-11-d2db83c730f7>\u001b[0m in \u001b[0;36m<module>\u001b[1;34m\u001b[0m\n\u001b[0;32m      2\u001b[0m \u001b[1;33m\u001b[0m\u001b[0m\n\u001b[0;32m      3\u001b[0m \u001b[1;32mwith\u001b[0m \u001b[0mopen\u001b[0m\u001b[1;33m(\u001b[0m\u001b[1;34m'messages.json'\u001b[0m\u001b[1;33m)\u001b[0m \u001b[1;32mas\u001b[0m \u001b[0mf\u001b[0m\u001b[1;33m:\u001b[0m\u001b[1;33m\u001b[0m\u001b[1;33m\u001b[0m\u001b[0m\n\u001b[1;32m----> 4\u001b[1;33m     \u001b[0mcontent\u001b[0m \u001b[1;33m=\u001b[0m \u001b[0mf\u001b[0m\u001b[1;33m.\u001b[0m\u001b[0mread\u001b[0m\u001b[1;33m(\u001b[0m\u001b[1;33m)\u001b[0m\u001b[1;33m\u001b[0m\u001b[1;33m\u001b[0m\u001b[0m\n\u001b[0m\u001b[0;32m      5\u001b[0m \u001b[1;33m\u001b[0m\u001b[0m\n\u001b[0;32m      6\u001b[0m \u001b[0mpd\u001b[0m\u001b[1;33m.\u001b[0m\u001b[0mread_json\u001b[0m\u001b[1;33m(\u001b[0m\u001b[1;34m'['\u001b[0m \u001b[1;33m+\u001b[0m \u001b[0mcontent\u001b[0m\u001b[1;33m.\u001b[0m\u001b[0mreplace\u001b[0m\u001b[1;33m(\u001b[0m\u001b[1;34m'}\\n'\u001b[0m\u001b[1;33m,\u001b[0m \u001b[1;34m'},'\u001b[0m\u001b[1;33m)\u001b[0m \u001b[1;33m+\u001b[0m \u001b[1;34m']'\u001b[0m\u001b[1;33m)\u001b[0m\u001b[1;33m\u001b[0m\u001b[1;33m\u001b[0m\u001b[0m\n",
      "\u001b[1;32mc:\\users\\owner\\appdata\\local\\programs\\python\\python37-32\\lib\\encodings\\cp1252.py\u001b[0m in \u001b[0;36mdecode\u001b[1;34m(self, input, final)\u001b[0m\n\u001b[0;32m     21\u001b[0m \u001b[1;32mclass\u001b[0m \u001b[0mIncrementalDecoder\u001b[0m\u001b[1;33m(\u001b[0m\u001b[0mcodecs\u001b[0m\u001b[1;33m.\u001b[0m\u001b[0mIncrementalDecoder\u001b[0m\u001b[1;33m)\u001b[0m\u001b[1;33m:\u001b[0m\u001b[1;33m\u001b[0m\u001b[1;33m\u001b[0m\u001b[0m\n\u001b[0;32m     22\u001b[0m     \u001b[1;32mdef\u001b[0m \u001b[0mdecode\u001b[0m\u001b[1;33m(\u001b[0m\u001b[0mself\u001b[0m\u001b[1;33m,\u001b[0m \u001b[0minput\u001b[0m\u001b[1;33m,\u001b[0m \u001b[0mfinal\u001b[0m\u001b[1;33m=\u001b[0m\u001b[1;32mFalse\u001b[0m\u001b[1;33m)\u001b[0m\u001b[1;33m:\u001b[0m\u001b[1;33m\u001b[0m\u001b[1;33m\u001b[0m\u001b[0m\n\u001b[1;32m---> 23\u001b[1;33m         \u001b[1;32mreturn\u001b[0m \u001b[0mcodecs\u001b[0m\u001b[1;33m.\u001b[0m\u001b[0mcharmap_decode\u001b[0m\u001b[1;33m(\u001b[0m\u001b[0minput\u001b[0m\u001b[1;33m,\u001b[0m\u001b[0mself\u001b[0m\u001b[1;33m.\u001b[0m\u001b[0merrors\u001b[0m\u001b[1;33m,\u001b[0m\u001b[0mdecoding_table\u001b[0m\u001b[1;33m)\u001b[0m\u001b[1;33m[\u001b[0m\u001b[1;36m0\u001b[0m\u001b[1;33m]\u001b[0m\u001b[1;33m\u001b[0m\u001b[1;33m\u001b[0m\u001b[0m\n\u001b[0m\u001b[0;32m     24\u001b[0m \u001b[1;33m\u001b[0m\u001b[0m\n\u001b[0;32m     25\u001b[0m \u001b[1;32mclass\u001b[0m \u001b[0mStreamWriter\u001b[0m\u001b[1;33m(\u001b[0m\u001b[0mCodec\u001b[0m\u001b[1;33m,\u001b[0m\u001b[0mcodecs\u001b[0m\u001b[1;33m.\u001b[0m\u001b[0mStreamWriter\u001b[0m\u001b[1;33m)\u001b[0m\u001b[1;33m:\u001b[0m\u001b[1;33m\u001b[0m\u001b[1;33m\u001b[0m\u001b[0m\n",
      "\u001b[1;31mUnicodeDecodeError\u001b[0m: 'charmap' codec can't decode byte 0x9d in position 153: character maps to <undefined>"
     ]
    }
   ],
   "source": [
    "import pandas as pd\n",
    "\n",
    "with open('messages.json') as f:\n",
    "    content = f.read()\n",
    "\n",
    "pd.read_json('[' + content.replace('}\\n', '},') + ']')\n",
    "\n"
   ]
  }
 ],
 "metadata": {
  "kernelspec": {
   "display_name": "Python 3",
   "language": "python",
   "name": "python3"
  },
  "language_info": {
   "codemirror_mode": {
    "name": "ipython",
    "version": 3
   },
   "file_extension": ".py",
   "mimetype": "text/x-python",
   "name": "python",
   "nbconvert_exporter": "python",
   "pygments_lexer": "ipython3",
   "version": "3.7.2"
  }
 },
 "nbformat": 4,
 "nbformat_minor": 2
}
