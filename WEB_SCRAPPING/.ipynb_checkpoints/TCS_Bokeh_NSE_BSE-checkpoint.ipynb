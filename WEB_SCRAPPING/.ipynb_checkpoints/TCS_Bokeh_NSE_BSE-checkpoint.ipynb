{
 "cells": [
  {
   "cell_type": "code",
   "execution_count": 59,
   "metadata": {},
   "outputs": [
    {
     "name": "stderr",
     "output_type": "stream",
     "text": [
      "BokehUserWarning: ColumnDataSource's columns must be of the same length. Current lengths: ('x', 14), ('y', 7)\n"
     ]
    }
   ],
   "source": [
    "from bokeh.plotting import figure\n",
    "from bokeh.io import output_file,show\n",
    "import pandas\n",
    "\n",
    "df=pandas.read_csv(\"Final_Exchange_Data.csv\")\n",
    "#x=df[\"Date\"]\n",
    "\n",
    "BSE_V=df.loc[df[\"Exchange_Name\"] == \"BSE\"]\n",
    "#BSE_Prv_CLS=BSE_V[\"Previous_Close\"]\n",
    "\n",
    "p=figure(width=500,height=500,x_axis_type=\"datetime\")\n",
    "\n",
    "p.line(df[\"Date\"],BSE_V[\"Previous_Close\"],color=\"Red\",alpha=0.5)\n",
    "\n",
    "output_file(\"Time.html\")\n",
    "\n",
    "show(p)\n"
   ]
  },
  {
   "cell_type": "code",
   "execution_count": 64,
   "metadata": {},
   "outputs": [
    {
     "data": {
      "text/html": [
       "<div>\n",
       "<style scoped>\n",
       "    .dataframe tbody tr th:only-of-type {\n",
       "        vertical-align: middle;\n",
       "    }\n",
       "\n",
       "    .dataframe tbody tr th {\n",
       "        vertical-align: top;\n",
       "    }\n",
       "\n",
       "    .dataframe thead th {\n",
       "        text-align: right;\n",
       "    }\n",
       "</style>\n",
       "<table border=\"1\" class=\"dataframe\">\n",
       "  <thead>\n",
       "    <tr style=\"text-align: right;\">\n",
       "      <th></th>\n",
       "      <th>Date</th>\n",
       "      <th>A_Script Name</th>\n",
       "      <th>Exchange_Name</th>\n",
       "      <th>Previous_Close</th>\n",
       "      <th>Todays_Close</th>\n",
       "      <th>Todays_Open</th>\n",
       "    </tr>\n",
       "  </thead>\n",
       "  <tbody>\n",
       "    <tr>\n",
       "      <th>0</th>\n",
       "      <td>Jan 23, 16:00</td>\n",
       "      <td>Tata Consultancy Services Ltd.</td>\n",
       "      <td>BSE</td>\n",
       "      <td>1900.35</td>\n",
       "      <td>1879.75</td>\n",
       "      <td>1900.00</td>\n",
       "    </tr>\n",
       "    <tr>\n",
       "      <th>2</th>\n",
       "      <td>Jan 24, 16:00</td>\n",
       "      <td>Tata Consultancy Services Ltd.</td>\n",
       "      <td>BSE</td>\n",
       "      <td>1879.75</td>\n",
       "      <td>1901.75</td>\n",
       "      <td>1882.00</td>\n",
       "    </tr>\n",
       "    <tr>\n",
       "      <th>4</th>\n",
       "      <td>Jan 25, 16:00</td>\n",
       "      <td>Tata Consultancy Services Ltd.</td>\n",
       "      <td>BSE</td>\n",
       "      <td>1901.75</td>\n",
       "      <td>1919.05</td>\n",
       "      <td>1904.40</td>\n",
       "    </tr>\n",
       "    <tr>\n",
       "      <th>6</th>\n",
       "      <td>Jan 28, 16:00</td>\n",
       "      <td>Tata Consultancy Services Ltd.</td>\n",
       "      <td>BSE</td>\n",
       "      <td>1919.05</td>\n",
       "      <td>1951.95</td>\n",
       "      <td>1931.70</td>\n",
       "    </tr>\n",
       "    <tr>\n",
       "      <th>8</th>\n",
       "      <td>Jan 29, 16:00</td>\n",
       "      <td>Tata Consultancy Services Ltd.</td>\n",
       "      <td>BSE</td>\n",
       "      <td>1951.95</td>\n",
       "      <td>1983.15</td>\n",
       "      <td>1956.00</td>\n",
       "    </tr>\n",
       "    <tr>\n",
       "      <th>10</th>\n",
       "      <td>Jan 30, 16:00</td>\n",
       "      <td>Tata Consultancy Services Ltd.</td>\n",
       "      <td>BSE</td>\n",
       "      <td>1983.15</td>\n",
       "      <td>1977.85</td>\n",
       "      <td>1983.15</td>\n",
       "    </tr>\n",
       "    <tr>\n",
       "      <th>12</th>\n",
       "      <td>Jan 31, 16:00</td>\n",
       "      <td>Tata Consultancy Services Ltd.</td>\n",
       "      <td>BSE</td>\n",
       "      <td>1977.85</td>\n",
       "      <td>2014.60</td>\n",
       "      <td>1988.00</td>\n",
       "    </tr>\n",
       "  </tbody>\n",
       "</table>\n",
       "</div>"
      ],
      "text/plain": [
       "             Date                   A_Script Name Exchange_Name  \\\n",
       "0   Jan 23, 16:00  Tata Consultancy Services Ltd.           BSE   \n",
       "2   Jan 24, 16:00  Tata Consultancy Services Ltd.           BSE   \n",
       "4   Jan 25, 16:00  Tata Consultancy Services Ltd.           BSE   \n",
       "6   Jan 28, 16:00  Tata Consultancy Services Ltd.           BSE   \n",
       "8   Jan 29, 16:00  Tata Consultancy Services Ltd.           BSE   \n",
       "10  Jan 30, 16:00  Tata Consultancy Services Ltd.           BSE   \n",
       "12  Jan 31, 16:00  Tata Consultancy Services Ltd.           BSE   \n",
       "\n",
       "    Previous_Close  Todays_Close  Todays_Open  \n",
       "0          1900.35       1879.75      1900.00  \n",
       "2          1879.75       1901.75      1882.00  \n",
       "4          1901.75       1919.05      1904.40  \n",
       "6          1919.05       1951.95      1931.70  \n",
       "8          1951.95       1983.15      1956.00  \n",
       "10         1983.15       1977.85      1983.15  \n",
       "12         1977.85       2014.60      1988.00  "
      ]
     },
     "execution_count": 64,
     "metadata": {},
     "output_type": "execute_result"
    }
   ],
   "source": [
    "df.loc[df[\"Exchange_Name\"] == \"BSE\"]"
   ]
  },
  {
   "cell_type": "code",
   "execution_count": null,
   "metadata": {},
   "outputs": [],
   "source": []
  }
 ],
 "metadata": {
  "kernelspec": {
   "display_name": "Python 3",
   "language": "python",
   "name": "python3"
  },
  "language_info": {
   "codemirror_mode": {
    "name": "ipython",
    "version": 3
   },
   "file_extension": ".py",
   "mimetype": "text/x-python",
   "name": "python",
   "nbconvert_exporter": "python",
   "pygments_lexer": "ipython3",
   "version": "3.7.2"
  }
 },
 "nbformat": 4,
 "nbformat_minor": 2
}
