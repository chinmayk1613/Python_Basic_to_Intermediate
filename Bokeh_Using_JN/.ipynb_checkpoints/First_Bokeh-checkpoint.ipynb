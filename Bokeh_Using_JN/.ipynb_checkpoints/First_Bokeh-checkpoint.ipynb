{
 "cells": [
  {
   "cell_type": "code",
   "execution_count": 2,
   "metadata": {},
   "outputs": [],
   "source": [
    "from bokeh.plotting import figure\n",
    "from bokeh.io import output_file,show\n",
    "import pandas\n",
    "\n",
    "df=pandas.read_csv(\"bachelors.csv\")\n",
    "x=df[\"Year\"]\n",
    "y=df[\"Engineering\"]\n",
    "\n",
    "\n",
    "\n",
    "\n",
    "output_file(\"Line.html\")\n",
    "f=figure()\n",
    "f.line(x,y)\n",
    "show(f) \n",
    "\n",
    "\n"
   ]
  },
  {
   "cell_type": "code",
   "execution_count": 4,
   "metadata": {},
   "outputs": [],
   "source": [
    "from bokeh.plotting import figure\n",
    "from bokeh.io import output_file,show\n",
    "import pandas\n",
    "\n",
    "df=pandas.read_csv(\"bachelors.csv\",parse_dates=[\"Year\"])\n",
    "\n",
    "p=figure(width=500,height=500,x_axis_type=\"datetime\")\n",
    "\n",
    "p.line(df[\"Year\"],df[\"Engineering\"],color=\"Red\",alpha=0.5)\n",
    "\n",
    "output_file(\"Time.html\")\n",
    "\n",
    "show(p)"
   ]
  }
 ],
 "metadata": {
  "kernelspec": {
   "display_name": "Python 3",
   "language": "python",
   "name": "python3"
  },
  "language_info": {
   "codemirror_mode": {
    "name": "ipython",
    "version": 3
   },
   "file_extension": ".py",
   "mimetype": "text/x-python",
   "name": "python",
   "nbconvert_exporter": "python",
   "pygments_lexer": "ipython3",
   "version": "3.7.2"
  }
 },
 "nbformat": 4,
 "nbformat_minor": 2
}
