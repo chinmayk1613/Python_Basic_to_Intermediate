{
 "cells": [
  {
   "cell_type": "code",
   "execution_count": null,
   "metadata": {},
   "outputs": [],
   "source": []
  },
  {
   "cell_type": "code",
   "execution_count": 3,
   "metadata": {},
   "outputs": [],
   "source": [
    "from pandas_datareader import data\n",
    "import datetime\n",
    "from bokeh.plotting import figure, show, output_file\n",
    "from bokeh.embed import components\n",
    "start_time=datetime.datetime(2010,1,1)\n",
    "end_time=datetime.datetime(2019,4,16)\n",
    "df=data.DataReader(name=\"TCS.NS\",data_source=\"yahoo\",start=start_time,end=end_time)\n",
    "\n",
    "def inc_dec(cl,op):\n",
    "    if cl > op:\n",
    "        value=\"Increase\"\n",
    "    elif cl < op:\n",
    "        value=\"Decrease\"\n",
    "    else:\n",
    "        value=\"Same\"\n",
    "    return value\n",
    "\n",
    "df[\"Status\"]=[inc_dec(cl,op) for cl, op in zip(df.Close,df.Open)]\n",
    "\n",
    "\n",
    "\n",
    "df[\"Middle\"]=(df.Close+df.Open)/2\n",
    "df[\"Height\"]=abs(df.Close-df.Open)\n",
    "\n",
    "\n",
    "p=figure(x_axis_type=\"datetime\",width=1000,height=300,sizing_mode=\"scale_width\")\n",
    "p.title.text=\"Its A Sample Chart\" \n",
    "p.grid.grid_line_alpha=0.6\n",
    "hours_12=12*60*60*1000\n",
    "\n",
    "p.segment(df.index,df.High,df.index,df.Low,color=\"black\")\n",
    "p.rect(df.index[df.Status==\"Increase\"],df.Middle[df.Status==\"Increase\"],hours_12,\n",
    "       df.Height[df.Status==\"Increase\"],fill_color=\"green\",line_color=\"blue\")\n",
    "p.rect(df.index[df.Status==\"Decrease\"],df.Middle[df.Status==\"Decrease\"],hours_12,\n",
    "       df.Height[df.Status==\"Decrease\"],fill_color=\"red\",line_color=\"blue\")\n",
    "\n",
    "#output_file(\"trial.html\")\n",
    "#show(p)"
   ]
  },
  {
   "cell_type": "code",
   "execution_count": 6,
   "metadata": {},
   "outputs": [
    {
     "ename": "ModuleNotFoundError",
     "evalue": "No module named 'cv2'",
     "output_type": "error",
     "traceback": [
      "\u001b[1;31m---------------------------------------------------------------------------\u001b[0m",
      "\u001b[1;31mModuleNotFoundError\u001b[0m                       Traceback (most recent call last)",
      "\u001b[1;32m<ipython-input-6-c8ec22b3e787>\u001b[0m in \u001b[0;36m<module>\u001b[1;34m\u001b[0m\n\u001b[1;32m----> 1\u001b[1;33m \u001b[1;32mimport\u001b[0m \u001b[0mcv2\u001b[0m\u001b[1;33m\u001b[0m\u001b[1;33m\u001b[0m\u001b[0m\n\u001b[0m",
      "\u001b[1;31mModuleNotFoundError\u001b[0m: No module named 'cv2'"
     ]
    }
   ],
   "source": [
    "import cv2"
   ]
  }
 ],
 "metadata": {
  "kernelspec": {
   "display_name": "Python 3",
   "language": "python",
   "name": "python3"
  },
  "language_info": {
   "codemirror_mode": {
    "name": "ipython",
    "version": 3
   },
   "file_extension": ".py",
   "mimetype": "text/x-python",
   "name": "python",
   "nbconvert_exporter": "python",
   "pygments_lexer": "ipython3",
   "version": "3.7.2"
  }
 },
 "nbformat": 4,
 "nbformat_minor": 2
}
