{
 "cells": [
  {
   "cell_type": "code",
   "execution_count": 6,
   "metadata": {},
   "outputs": [],
   "source": [
    "from pandas_datareader import data\n",
    "import datetime"
   ]
  },
  {
   "cell_type": "code",
   "execution_count": 1,
   "metadata": {},
   "outputs": [
    {
     "ename": "NameError",
     "evalue": "name 'datetime' is not defined",
     "output_type": "error",
     "traceback": [
      "\u001b[1;31m---------------------------------------------------------------------------\u001b[0m",
      "\u001b[1;31mNameError\u001b[0m                                 Traceback (most recent call last)",
      "\u001b[1;32m<ipython-input-1-b69a8413ec37>\u001b[0m in \u001b[0;36m<module>\u001b[1;34m\u001b[0m\n\u001b[1;32m----> 1\u001b[1;33m \u001b[0mstart\u001b[0m\u001b[1;33m=\u001b[0m\u001b[0mdatetime\u001b[0m\u001b[1;33m.\u001b[0m\u001b[0mdatetime\u001b[0m\u001b[1;33m(\u001b[0m\u001b[1;36m2019\u001b[0m\u001b[1;33m,\u001b[0m\u001b[1;36m1\u001b[0m\u001b[1;33m,\u001b[0m\u001b[1;36m1\u001b[0m\u001b[1;33m)\u001b[0m\u001b[1;33m\u001b[0m\u001b[1;33m\u001b[0m\u001b[0m\n\u001b[0m\u001b[0;32m      2\u001b[0m \u001b[0mend\u001b[0m\u001b[1;33m=\u001b[0m\u001b[0mdatetime\u001b[0m\u001b[1;33m.\u001b[0m\u001b[0mdatetime\u001b[0m\u001b[1;33m(\u001b[0m\u001b[1;36m2019\u001b[0m\u001b[1;33m,\u001b[0m\u001b[1;36m1\u001b[0m\u001b[1;33m,\u001b[0m\u001b[1;36m31\u001b[0m\u001b[1;33m)\u001b[0m\u001b[1;33m\u001b[0m\u001b[1;33m\u001b[0m\u001b[0m\n\u001b[0;32m      3\u001b[0m \u001b[0mdf\u001b[0m\u001b[1;33m=\u001b[0m\u001b[0mdata\u001b[0m\u001b[1;33m.\u001b[0m\u001b[0mDataReader\u001b[0m\u001b[1;33m(\u001b[0m\u001b[0mname\u001b[0m\u001b[1;33m=\u001b[0m\u001b[1;34m\"TCS.ns\"\u001b[0m\u001b[1;33m,\u001b[0m\u001b[0mdata_source\u001b[0m\u001b[1;33m=\u001b[0m\u001b[1;34m\"yahoo\"\u001b[0m\u001b[1;33m,\u001b[0m\u001b[0mstart\u001b[0m\u001b[1;33m=\u001b[0m\u001b[0mstart\u001b[0m\u001b[1;33m,\u001b[0m\u001b[0mend\u001b[0m\u001b[1;33m=\u001b[0m\u001b[0mend\u001b[0m\u001b[1;33m)\u001b[0m\u001b[1;33m\u001b[0m\u001b[1;33m\u001b[0m\u001b[0m\n\u001b[0;32m      4\u001b[0m \u001b[0mdf\u001b[0m\u001b[1;33m\u001b[0m\u001b[1;33m\u001b[0m\u001b[0m\n",
      "\u001b[1;31mNameError\u001b[0m: name 'datetime' is not defined"
     ]
    }
   ],
   "source": [
    "start=datetime.datetime(2019,1,1)\n",
    "end=datetime.datetime(2019,1,31)\n",
    "df=data.DataReader(name=\"TCS.ns\",data_source=\"yahoo\",start=start,end=end)\n",
    "df"
   ]
  },
  {
   "cell_type": "code",
   "execution_count": 4,
   "metadata": {},
   "outputs": [
    {
     "name": "stdout",
     "output_type": "stream",
     "text": [
      "file://C:/Users/owner/AppData/Local/Temp/tmpeytpc1ks.html\n",
      "file://C:/Users/owner/AppData/Local/Temp/tmpiyh438sh.html\n",
      "file://C:/Users/owner/AppData/Local/Temp/tmpm77q_bw2.html\n"
     ]
    }
   ],
   "source": [
    "import sys\n",
    "import pygal\n",
    "import collections\n",
    "from xml import etree\n",
    "import pandas as pd\n",
    "from pandas.plotting import scatter_matrix\n",
    "from pandas.plotting import parallel_coordinates\n",
    "import matplotlib.pyplot as plt\n",
    "#--------------------------------------------------------------------------------------------------------------------------\n",
    "# All python inbuilt functions used are taken based on the description from https://matplotlib.org/api/api_overview.html\n",
    "# I have also re used the code from my previous Assignment solutions\n",
    "#--------------------------------------------------------------------------------------------------------------------------\n",
    "\n",
    "#Opening the CSV file\n",
    "try:\n",
    "\tcsvHandler = pd.read_csv('DataWeierstrass.csv', header=0,sep=\";\",  names=[\"Proffessor\",\"Lectures\",\"Participants\",\n",
    "\t\t\"Expertice\",\"Motivation\",\"Presentation\",\"Impression\"])\n",
    "except:\n",
    "\tprint(\"Coudlnt open file DataWeierstrass.csv\\nHence exiting..\\n\")\n",
    "\tsys.exit()\n",
    "\n",
    "new = csvHandler[\"Lectures\"].str.split(\"re\", n = 1, expand = True)\n",
    "csvHandler[\"Lecture\"]= new[1] \n",
    "csvHandler.drop(columns =[\"Lectures\"], inplace = True)\n",
    "\n",
    "csvHandler.Lecture=pd.to_numeric(csvHandler.Lecture)\n",
    "csvHandler.Participants=pd.to_numeric(csvHandler.Participants)\n",
    "csvHandler.Expertice=pd.to_numeric(csvHandler.Expertice)\n",
    "csvHandler.Motivation=pd.to_numeric(csvHandler.Motivation)\n",
    "csvHandler.Presentation=pd.to_numeric(csvHandler.Presentation)\n",
    "csvHandler.Impression=pd.to_numeric(csvHandler.Impression)\n",
    "\n",
    "list_Participants = list(csvHandler[\"Participants\"])\n",
    "list_Lecture = list(csvHandler[\"Lecture\"])\n",
    "list_Prof = list(csvHandler[\"Proffessor\"])\n",
    "list_Impression = list(csvHandler[\"Impression\"])\n",
    "#reordering the columns\n",
    "csvHandler = csvHandler[[\"Proffessor\",\"Lecture\",\"Participants\",\"Expertice\",\"Motivation\",\"Presentation\",\"Impression\"]]\n",
    "\n",
    "line_graph = pygal.Line()\n",
    "line_graph.title = 'Assignment 6 '\n",
    "line_graph.x_labels = csvHandler[\"Proffessor\"]\n",
    "line_graph.add('Lecture',csvHandler[\"Lecture\"])\n",
    "line_graph.add('Participants',csvHandler[\"Participants\"])\n",
    "line_graph.render_in_browser()\n",
    "\n",
    "\n",
    "\n",
    "bar = pygal.HorizontalBar()\n",
    "bar.title = 'Assignment 6 '\n",
    "#for i in range(1,3):\n",
    "\t#bar.add(list_Lecture[i], int(list_Participants[i])\n",
    "#bar.render_in_browser()\n",
    "\n",
    "scatter = dot_chart = pygal.Dot(x_label_rotation=30)\n",
    "scatter.title = 'Correlation'\n",
    "scatter.x_labels = csvHandler[\"Proffessor\"]\n",
    "scatter.add('Impression',csvHandler[\"Impression\"])\n",
    "scatter.render_in_browser()\n",
    "\n",
    "Proffessor_Impression_Dictionary = {}\n",
    "\n",
    "\n",
    "ProfessorsDictionary=collections.Counter(list_Prof)\n",
    "\n",
    "for prof in ProfessorsDictionary: \n",
    "\tsumimp = 0\n",
    "\tfor i in range (0,122):\n",
    "\t\tif (list_Prof[i] == prof):\n",
    "\t\t\tsumimp = sumimp + list_Impression[i]\n",
    "\t\t\tProffessor_Impression_Dictionary[prof] = sumimp\n",
    "\n",
    "pie = pygal.Pie()\n",
    "pie.title = \"Pie\"\n",
    "\n",
    "for prof in ProfessorsDictionary:\n",
    "\tavg = Proffessor_Impression_Dictionary[prof]/ProfessorsDictionary[prof]\n",
    "\tpie.add(prof, avg)\n",
    "\n",
    "pie.render_in_browser()"
   ]
  }
 ],
 "metadata": {
  "kernelspec": {
   "display_name": "Python 3",
   "language": "python",
   "name": "python3"
  },
  "language_info": {
   "codemirror_mode": {
    "name": "ipython",
    "version": 3
   },
   "file_extension": ".py",
   "mimetype": "text/x-python",
   "name": "python",
   "nbconvert_exporter": "python",
   "pygments_lexer": "ipython3",
   "version": "3.7.2"
  }
 },
 "nbformat": 4,
 "nbformat_minor": 2
}
