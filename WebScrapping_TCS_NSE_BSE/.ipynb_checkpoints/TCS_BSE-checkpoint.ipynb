{
 "cells": [
  {
   "cell_type": "code",
   "execution_count": 84,
   "metadata": {},
   "outputs": [
    {
     "name": "stdout",
     "output_type": "stream",
     "text": [
      "[<span id=\"Bse_Prc_tick\"><strong>1900.35</strong></span>]\n",
      "[<span class=\"PA2\" id=\"Nse_Prc_tick\"><strong>1901.90</strong></span>]\n",
      "[<div class=\"gD_12 PB3\" id=\"b_prevclose\"><strong>1905.80</strong></div>]\n",
      "[<div class=\"gD_12 PB3\" id=\"n_prevclose\"><strong>1908.70</strong></div>]\n",
      "[<div class=\"gD_12 PB3\" id=\"b_open\"><strong>1908.00</strong></div>]\n",
      "[<div class=\"gD_12 PB3\" id=\"n_open\"><strong>1907.10</strong></div>]\n",
      "Jan 22, 16:00\n"
     ]
    }
   ],
   "source": [
    "import requests\n",
    "from bs4 import BeautifulSoup\n",
    "\n",
    "r=requests.get(\"https://www.moneycontrol.com/india/stockpricequote/computers-software/tataconsultancyservices/TCS\")\n",
    "c=r.content\n",
    "\n",
    "\n",
    "soup=BeautifulSoup(c,\"html.parser\")\n",
    "\n",
    "date=soup.find(\"div\",{\"id\":\"bse_upd_time\"}).text\n",
    "\n",
    "\n",
    "all_BSE=soup.find_all(\"span\",{\"id\":\"Bse_Prc_tick\"})\n",
    "all_BSE_PRV_CLS=soup.find_all(\"div\",{\"id\":\"b_prevclose\"})\n",
    "all_BSE_OPEN=soup.find_all(\"div\",{\"id\":\"b_open\"})\n",
    "all_NSE=soup.find_all(\"span\",{\"id\":\"Nse_Prc_tick\"})\n",
    "all_NSE_PRV_CLS=soup.find_all(\"div\",{\"id\":\"n_prevclose\"})\n",
    "all_NSE_OPEN=soup.find_all(\"div\",{\"id\":\"n_open\"})\n",
    "\n",
    "c_Name=soup.find(\"h1\",{\"class\":\"b_42 company_name\"}).text\n",
    "\n",
    "print(all_BSE)\n",
    "print(all_NSE)\n",
    "print(all_BSE_PRV_CLS)\n",
    "print(all_NSE_PRV_CLS)\n",
    "print(all_BSE_OPEN)\n",
    "print(all_NSE_OPEN)\n",
    "print(date)"
   ]
  },
  {
   "cell_type": "code",
   "execution_count": 112,
   "metadata": {},
   "outputs": [
    {
     "name": "stdout",
     "output_type": "stream",
     "text": [
      "Tata Consultancy Services Ltd. ( Jan 22, 16:00 )\n",
      "\n",
      "[{'A_Script Name': 'Tata Consultancy Services Ltd.', 'Exchange_Name': 'BSE', 'Todays Close': '1900.35', 'Previous Close': '1905.80', 'Todays Open': '1908.00'}]\n",
      "[{'A_Script Name': 'Tata Consultancy Services Ltd.', 'Exchange_Name': 'NSE', 'Todays Close': '1901.90', 'Previous Close': '1908.70', 'Todays Open': '1907.10'}]\n"
     ]
    }
   ],
   "source": [
    "print(c_Name,\"(\",date,\")\\n\")\n",
    "\n",
    "\n",
    "\n",
    "d_BSE={}\n",
    "d_NSE={}\n",
    "l_BSE=[]\n",
    "l_NSE=[]\n",
    "\n",
    "d_BSE[\"A_Script Name\"]=c_Name\n",
    "d_BSE[\"Exchange_Name\"]=\"BSE\"\n",
    "d_NSE[\"A_Script Name\"]=c_Name\n",
    "d_NSE[\"Exchange_Name\"]=\"NSE\"\n",
    "\n",
    "for item in all_BSE:\n",
    "    \n",
    "    try:\n",
    "        d_BSE[\"Todays Close\"]=item.find(\"strong\").text\n",
    "    except:\n",
    "        d_BSE[\"Todays Close\"]=None\n",
    "        \n",
    "for item in all_BSE_PRV_CLS:\n",
    "    try:\n",
    "        d_BSE[\"Previous Close\"]=item.find(\"strong\").text\n",
    "    except:\n",
    "        d_BSE[\"Previous Close\"]=None\n",
    "        \n",
    "for item in all_BSE_OPEN:\n",
    "    try:\n",
    "        d_BSE[\"Todays Open\"]=item.find(\"strong\").text\n",
    "    except:\n",
    "        d_BSE[\"Todays Open\"]=None\n",
    "        \n",
    "l_BSE.append(d_BSE)\n",
    "\n",
    "       \n",
    "    \n",
    "for item in all_NSE:\n",
    "    try:\n",
    "        d_NSE[\"Todays Close\"]=item.find(\"strong\").text\n",
    "    except:\n",
    "        d_NSE[\"Todays Close\"]=None\n",
    "\n",
    "for item in all_NSE_PRV_CLS:\n",
    "    try:\n",
    "        d_NSE[\"Previous Close\"]=item.find(\"strong\").text\n",
    "    except:\n",
    "        d_NSE[\"Todays Close\"]=None\n",
    "        \n",
    "for item in all_NSE_OPEN:\n",
    "    try:\n",
    "        d_NSE[\"Todays Open\"]=item.find(\"strong\").text\n",
    "    except:\n",
    "        d_NSE[\"Todays Close\"]=None\n",
    "l_NSE.append(d_NSE)        \n",
    "        \n",
    "print(l_BSE)\n",
    "print(l_NSE)"
   ]
  },
  {
   "cell_type": "code",
   "execution_count": 120,
   "metadata": {
    "scrolled": false
   },
   "outputs": [],
   "source": [
    "import pandas\n",
    "df=pandas.DataFrame(l_BSE)\n",
    "df.rename(index={0:date},inplace=True)\n",
    "\n",
    "df1=pandas.DataFrame(l_NSE)\n",
    "df1.rename(index={0:date},inplace=True)\n",
    "\n",
    "\n"
   ]
  },
  {
   "cell_type": "code",
   "execution_count": 128,
   "metadata": {},
   "outputs": [],
   "source": [
    "concat = pandas.concat([df,df1])\n",
    "concat\n",
    "\n",
    "concat.to_csv(\"Final_Exchange_Data.csv\")\n",
    "\n",
    "\n",
    "#with open('Final_Exchange_Data.csv', 'a') as f:\n",
    " #   concat.to_csv(f, header=False)"
   ]
  }
 ],
 "metadata": {
  "kernelspec": {
   "display_name": "Python 3",
   "language": "python",
   "name": "python3"
  },
  "language_info": {
   "codemirror_mode": {
    "name": "ipython",
    "version": 3
   },
   "file_extension": ".py",
   "mimetype": "text/x-python",
   "name": "python",
   "nbconvert_exporter": "python",
   "pygments_lexer": "ipython3",
   "version": "3.7.2"
  }
 },
 "nbformat": 4,
 "nbformat_minor": 2
}
